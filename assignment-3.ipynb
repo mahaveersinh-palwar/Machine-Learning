{
 "cells": [
  {
   "cell_type": "markdown",
   "id": "69a1c875",
   "metadata": {},
   "source": [
    "# Data_advertising"
   ]
  },
  {
   "cell_type": "code",
   "execution_count": 1,
   "id": "5c508fc2",
   "metadata": {},
   "outputs": [
    {
     "data": {
      "image/png": "[encoded data removed]",
      "text/plain": [
       "<Figure size 432x288 with 1 Axes>"
      ]
     },
     "metadata": {
      "needs_background": "light"
     },
     "output_type": "display_data"
    }
   ],
   "source": [
    "import pandas as pd\n",
    "import numpy as np\n",
    "from sklearn import linear_model\n",
    "import matplotlib.pyplot as plt\n",
    "\n",
    "# Load the data\n",
    "data=pd.read_csv(\"Data_Advertising.csv\")\n",
    "# split the dataset\n",
    "x=np.array(data.sales).reshape(-1,1)\n",
    "y=np.array(data.TV).reshape(-1,1)\n",
    "\n",
    "# Load the model\n",
    "linear_regression_model=linear_model.LinearRegression()\n",
    "\n",
    "# Train the model:fit\n",
    "linear_regression_model.fit(x,y)\n",
    "\n",
    "# Test the model\n",
    "xtest=np.array([3.0,1.0,9.0,5.2]).reshape(-1,1)\n",
    "xtest=x\n",
    "ytest_result=linear_regression_model.predict(xtest)\n",
    "plt.scatter(x,y,color=\"red\")\n",
    "plt.scatter(x,ytest_result,color=\"blue\")\n",
    "plt.xlabel(\"xlabel\")\n",
    "plt.ylabel(\"ylabel\")\n",
    "plt.show()"
   ]
  },
  {
   "cell_type": "markdown",
   "id": "8227d9ea",
   "metadata": {},
   "source": [
    "# Radio vs sale"
   ]
  },
  {
   "cell_type": "code",
   "execution_count": null,
   "id": "be42d21c",
   "metadata": {},
   "outputs": [],
   "source": [
    "import pandas as pd\n",
    "import numpy as np\n",
    "from sklearn import linear_model\n",
    "import matplotlib.pyplot as plt\n",
    "\n",
    "# Load the data\n",
    "data=pd.read_csv(\"Data_Advertising.csv\")\n",
    "# split the dataset\n",
    "x=np.array(data.sales).reshape(-1,1)\n",
    "y=np.array(data.radio).reshape(-1,1)\n",
    "\n",
    "# Load the model\n",
    "linear_regression_model=linear_model.LinearRegression()\n",
    "\n",
    "# Train the model:fit\n",
    "linear_regression_model.fit(x,y)\n",
    "\n",
    "# Test the model\n",
    "xtest=np.array([3.0,1.0,9.0,5.2]).reshape(-1,1)\n",
    "xtest=x\n",
    "ytest_result=linear_regression_model.predict(xtest)\n",
    "plt.scatter(x,y,color=\"red\")\n",
    "plt.scatter(x,ytest_result,color=\"blue\")\n",
    "plt.xlabel(\"xlabel\")\n",
    "plt.ylabel(\"ylabel\")\n",
    "plt.show()"
   ]
  },
  {
   "cell_type": "markdown",
   "id": "70d81115",
   "metadata": {},
   "source": [
    "# Newspaper vs sales"
   ]
  },
  {
   "cell_type": "code",
   "execution_count": null,
   "id": "c0e202f6",
   "metadata": {},
   "outputs": [],
   "source": [
    "import pandas as pd\n",
    "import numpy as np\n",
    "from sklearn import linear_model\n",
    "import matplotlib.pyplot as plt\n",
    "\n",
    "# Load the data\n",
    "data=pd.read_csv(\"Data_Advertising.csv\")\n",
    "# split the dataset\n",
    "x=np.array(data.newspaper).reshape(-1,1)\n",
    "y=np.array(data.TV).reshape(-1,1)\n",
    "\n",
    "# Load the model\n",
    "linear_regression_model=linear_model.LinearRegression()\n",
    "\n",
    "# Train the model:fit\n",
    "linear_regression_model.fit(x,y)\n",
    "\n",
    "# Test the model\n",
    "xtest=np.array([3.0,1.0,9.0,5.2]).reshape(-1,1)\n",
    "xtest=x\n",
    "ytest_result=linear_regression_model.predict(xtest)\n",
    "plt.scatter(x,y,color=\"red\")\n",
    "plt.scatter(x,ytest_result,color=\"blue\")\n",
    "plt.xlabel(\"xlabel\")\n",
    "plt.ylabel(\"ylabel\")\n",
    "plt.show()"
   ]
  },
  {
   "cell_type": "markdown",
   "id": "adfa742d",
   "metadata": {},
   "source": [
    "# Insuarence "
   ]
  },
  {
   "cell_type": "code",
   "execution_count": null,
   "id": "d5723547",
   "metadata": {},
   "outputs": [],
   "source": [
    "# import pandas as pd\n",
    "import numpy as np\n",
    "from sklearn import linear_model,model_selection,preprocessing\n",
    "import matplotlib.pyplot as plt\n",
    "\n",
    "                     \n",
    "# Load the data\n",
    "data=pd.read_csv(\"insurance.csv\")\n",
    "\n",
    "# identify x and y\n",
    "label_encoder=preprocessing.LabelEncoder()\n",
    "x=np.array(label_encoder.fit_transform(data.sex)).reshape(-1,1)\n",
    "y=np.array(data.expenses).reshape(-1,1)\n",
    "\n",
    "# split the datast in training and testing\n",
    "xtrain,xtest,ytrain,ytest=model_selection.train_test_split(x,y,test_size=0.3)\n",
    "\n",
    "# Load the model\n",
    "lr=linear_model.LinearRegression()\n",
    "lr.fit(xtrain,ytrain)\n",
    "\n",
    "# test the model\n",
    "ytest_predicted=lr.predict(xtest)\n",
    "\n",
    "# print(ytest)\n",
    "# print(ytest_predicted)\n",
    "# visualization\n",
    "plt.scatter(xtrain,ytrain,color=\"red\")\n",
    "plt.scatter(xtest,ytest,color=\"blue\")\n",
    "plt.show()"
   ]
  },
  {
   "cell_type": "markdown",
   "id": "fda4a241",
   "metadata": {},
   "source": [
    "# Weather"
   ]
  },
  {
   "cell_type": "code",
   "execution_count": null,
   "id": "d8435694",
   "metadata": {},
   "outputs": [],
   "source": [
    "import pandas as pd\n",
    "import numpy as np\n",
    "from sklearn import linear_model,model_selection,preprocessing\n",
    "import matplotlib.pyplot as plt\n",
    "\n",
    "                     \n",
    "# Load the data\n",
    "data=pd.read_csv(\"Weather.csv\")\n",
    "\n",
    "# identify x and y\n",
    "label_encoder=preprocessing.LabelEncoder()\n",
    "x=np.array(label_encoder.fit_transform(data.MaxTemp)).reshape(-1,1)\n",
    "y=np.array(data.YR).reshape(-1,1)\n",
    "\n",
    "# split the datast in training and testing\n",
    "xtrain,xtest,ytrain,ytest=model_selection.train_test_split(x,y,test_size=0.3)\n",
    "\n",
    "# Load the model\n",
    "lr=linear_model.LinearRegression()\n",
    "lr.fit(xtrain,ytrain)\n",
    "\n",
    "# test the model\n",
    "ytest_predicted=lr.predict(xtest)\n",
    "\n",
    "# print(ytest)\n",
    "# print(ytest_predicted)\n",
    "# visualization\n",
    "plt.scatter(xtrain,ytrain,color=\"red\")\n",
    "plt.scatter(xtest,ytest,color=\"blue\")\n",
    "plt.show()"
   ]
  }
 ],
 "metadata": {
  "kernelspec": {
   "display_name": "Python 3 (ipykernel)",
   "language": "python",
   "name": "python3"
  },
  "language_info": {
   "codemirror_mode": {
    "name": "ipython",
    "version": 3
   },
   "file_extension": ".py",
   "mimetype": "text/x-python",
   "name": "python",
   "nbconvert_exporter": "python",
   "pygments_lexer": "ipython3",
   "version": "3.9.6"
  }
 },
 "nbformat": 4,
 "nbformat_minor": 5
}
