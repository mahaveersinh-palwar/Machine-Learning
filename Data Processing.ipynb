{
 "cells": [
  {
   "cell_type": "code",
   "execution_count": 2,
   "id": "3b2fd627",
   "metadata": {},
   "outputs": [
    {
     "name": "stdout",
     "output_type": "stream",
     "text": [
      "[[3 5]\n",
      " [7 4]\n",
      " [2 4]]\n",
      "[4.         4.33333333]\n",
      "[2.1602469  0.47140452]\n",
      "[[-1.          0.66666667]\n",
      " [ 3.         -0.33333333]\n",
      " [-2.         -0.33333333]]\n",
      "[[-0.46291005  1.41421356]\n",
      " [ 1.38873015 -0.70710678]\n",
      " [-0.9258201  -0.70710678]]\n",
      "[0.00000000e+00 5.92118946e-16]\n",
      "[1. 1.]\n"
     ]
    }
   ],
   "source": [
    "import numpy as np\n",
    "import pandas as pd\n",
    "from sklearn import preprocessing\n",
    "\n",
    "data = np.array([[3,5],[7,4],[2,4]])\n",
    "print(data)\n",
    "\n",
    "#Way : 1\n",
    "#mean = average\n",
    "mean_val = data.mean(axis=0)\n",
    "print(mean_val)\n",
    "\n",
    "#Standard Deviation\n",
    "std = data.std(axis=0)\n",
    "print(std)\n",
    "\n",
    "#Mean Removal : it means mean=0, std=1\n",
    "final_val = data-mean_val\n",
    "print(final_val)\n",
    "# print(final_val.mean(axis = 0))\n",
    "# print(final_val.std(axis = 0))\n",
    "\n",
    "#Way:2\n",
    "#scale()\n",
    "final = preprocessing.scale(data)\n",
    "print(final)\n",
    "print(final.mean(axis = 0))\n",
    "print(final.std(axis = 0))\n"
   ]
  },
  {
   "cell_type": "code",
   "execution_count": null,
   "id": "129a387f",
   "metadata": {},
   "outputs": [],
   "source": [
    "### df=pd.read_csv(\"csvdata.csv\")\n",
    "print(df)\n",
    "data = df[['person','male','female']]\n",
    "print(\"===========================\")\n",
    "print(data)\n",
    "\n",
    "print(data.mean(axis=0))\n",
    "print(\"===========================\")\n",
    "print(data.std(axis=0))\n",
    "\n",
    "mean_removed_data = preprocessing.scale(data)\n",
    "print(mean_removed_data.mean(axis=0))\n",
    "print(mean_removed_data.std(axis=0))"
   ]
  },
  {
   "cell_type": "markdown",
   "id": "6138f6f9",
   "metadata": {},
   "source": [
    "# sacalling"
   ]
  },
  {
   "cell_type": "code",
   "execution_count": 3,
   "id": "2b0b3fed",
   "metadata": {},
   "outputs": [
    {
     "name": "stdout",
     "output_type": "stream",
     "text": [
      "[[0.2 1. ]\n",
      " [1.  0. ]\n",
      " [0.  0. ]]\n"
     ]
    }
   ],
   "source": [
    "import numpy as np\n",
    "from sklearn import preprocessing\n",
    "\n",
    "data = np.array([[3,5],[7,4],[2,4]])\n",
    "\n",
    "#define A Scaller model Fro scalling The Data \n",
    "scaller_model= preprocessing.MinMaxScaler()\n",
    "\n",
    "#Apply Data To The Model : Fit\n",
    "op1=scaller_model.fit(data)\n",
    "\n",
    "#Let The Model trasfer the data according to requirment : trasform\n",
    "op2=op1.transform(data)\n",
    "\n",
    "#print the result\n",
    "print(op2)\n",
    "\n"
   ]
  },
  {
   "cell_type": "code",
   "execution_count": 6,
   "id": "92ebeb3f",
   "metadata": {},
   "outputs": [
    {
     "name": "stdout",
     "output_type": "stream",
     "text": [
      "[[0.2 1. ]\n",
      " [1.  0. ]\n",
      " [0.  0. ]]\n"
     ]
    }
   ],
   "source": [
    "import pandas as pd\n",
    "from sklearn.preprocessing import MinMaxScaler\n",
    "\n",
    "data = np.array([[3,5],[7,4],[2,4]])\n",
    "\n",
    "#Define A Scaller Model For Scalling The Data\\\n",
    "scaller_model = preprocessing.MinMaxScaler()\n",
    "\n",
    "#Apply The Data To Model And Let The Model trasfer The Data Accordingly\n",
    "op = scaller_model.fit_transform(data)\n",
    "print(op)"
   ]
  },
  {
   "cell_type": "markdown",
   "id": "f51dbb56",
   "metadata": {},
   "source": [
    "# Normalization"
   ]
  },
  {
   "cell_type": "code",
   "execution_count": 11,
   "id": "cfa3d40a",
   "metadata": {},
   "outputs": [
    {
     "name": "stdout",
     "output_type": "stream",
     "text": [
      "[[0.375      0.625     ]\n",
      " [0.63636364 0.36363636]\n",
      " [0.33333333 0.66666667]]\n"
     ]
    }
   ],
   "source": [
    "data = np.array([[3,5],[7,4],[2,4]])\n",
    "op = preprocessing.normalize(data,norm='l1')\n",
    "print(op)"
   ]
  },
  {
   "cell_type": "code",
   "execution_count": null,
   "id": "d4246d15",
   "metadata": {},
   "outputs": [],
   "source": []
  }
 ],
 "metadata": {
  "kernelspec": {
   "display_name": "Python 3 (ipykernel)",
   "language": "python",
   "name": "python3"
  },
  "language_info": {
   "codemirror_mode": {
    "name": "ipython",
    "version": 3
   },
   "file_extension": ".py",
   "mimetype": "text/x-python",
   "name": "python",
   "nbconvert_exporter": "python",
   "pygments_lexer": "ipython3",
   "version": "3.9.6"
  }
 },
 "nbformat": 4,
 "nbformat_minor": 5
}
