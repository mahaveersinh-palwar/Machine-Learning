{
 "cells": [
  {
   "cell_type": "code",
   "execution_count": 1,
   "id": "38196c10",
   "metadata": {},
   "outputs": [
    {
     "name": "stdout",
     "output_type": "stream",
     "text": [
      "       Unnamed: 0      gameId  season         role    lane  \\\n",
      "0               0  4260630568      13  DUO_SUPPORT  BOTTOM   \n",
      "1               1  4260452798      13          DUO     TOP   \n",
      "2               2  4260353406      13         SOLO     MID   \n",
      "3               3  4260272376      13         SOLO     TOP   \n",
      "4               4  4260082928      13         SOLO     MID   \n",
      "...           ...         ...     ...          ...     ...   \n",
      "29995          95  4222879292      13  DUO_SUPPORT  BOTTOM   \n",
      "29996          96  4222613796      13  DUO_SUPPORT  BOTTOM   \n",
      "29997          97  4222481428      13          DUO    NONE   \n",
      "29998          98  4221929785      13    DUO_CARRY  BOTTOM   \n",
      "29999          99  4221027646      13  DUO_SUPPORT    NONE   \n",
      "\n",
      "                                             accountId  \n",
      "0      IIWG7FRiqE8CuZaCslKkNxkglwpgnePPxDslb2tv66FKrgo  \n",
      "1      IIWG7FRiqE8CuZaCslKkNxkglwpgnePPxDslb2tv66FKrgo  \n",
      "2      IIWG7FRiqE8CuZaCslKkNxkglwpgnePPxDslb2tv66FKrgo  \n",
      "3      IIWG7FRiqE8CuZaCslKkNxkglwpgnePPxDslb2tv66FKrgo  \n",
      "4      IIWG7FRiqE8CuZaCslKkNxkglwpgnePPxDslb2tv66FKrgo  \n",
      "...                                                ...  \n",
      "29995     N1zaglgoWTch14yyt0KL7P5iPKB5or3YBI0Ba44Pgwsg  \n",
      "29996     N1zaglgoWTch14yyt0KL7P5iPKB5or3YBI0Ba44Pgwsg  \n",
      "29997     N1zaglgoWTch14yyt0KL7P5iPKB5or3YBI0Ba44Pgwsg  \n",
      "29998     N1zaglgoWTch14yyt0KL7P5iPKB5or3YBI0Ba44Pgwsg  \n",
      "29999     N1zaglgoWTch14yyt0KL7P5iPKB5or3YBI0Ba44Pgwsg  \n",
      "\n",
      "[30000 rows x 6 columns]\n"
     ]
    }
   ],
   "source": [
    "import pandas as pd\n",
    "\n",
    "df = pd.read_csv(\"match.csv\")\n",
    "print(df)"
   ]
  },
  {
   "cell_type": "code",
   "execution_count": 2,
   "id": "125ba589",
   "metadata": {},
   "outputs": [
    {
     "name": "stdout",
     "output_type": "stream",
     "text": [
      "30000\n"
     ]
    }
   ],
   "source": [
    "print(len(df))"
   ]
  },
  {
   "cell_type": "code",
   "execution_count": 3,
   "id": "d5ce617c",
   "metadata": {},
   "outputs": [
    {
     "name": "stdout",
     "output_type": "stream",
     "text": [
      "(30000, 6)\n"
     ]
    }
   ],
   "source": [
    "print(df.shape)"
   ]
  },
  {
   "cell_type": "code",
   "execution_count": 4,
   "id": "c5d7de33",
   "metadata": {},
   "outputs": [
    {
     "name": "stdout",
     "output_type": "stream",
     "text": [
      "['Unnamed: 0', 'gameId', 'season', 'role', 'lane', 'accountId']\n"
     ]
    }
   ],
   "source": [
    "print(df.columns.tolist())"
   ]
  },
  {
   "cell_type": "code",
   "execution_count": 5,
   "id": "4cf410e6",
   "metadata": {},
   "outputs": [
    {
     "name": "stdout",
     "output_type": "stream",
     "text": [
      "Unnamed: 0    0\n",
      "gameId        0\n",
      "season        0\n",
      "role          0\n",
      "lane          0\n",
      "accountId     0\n",
      "dtype: int64\n"
     ]
    }
   ],
   "source": [
    "print(df.isnull().sum())"
   ]
  },
  {
   "cell_type": "code",
   "execution_count": 6,
   "id": "1208dd4a",
   "metadata": {},
   "outputs": [
    {
     "name": "stdout",
     "output_type": "stream",
     "text": [
      "2\n"
     ]
    }
   ],
   "source": [
    "print(df.ndim)"
   ]
  },
  {
   "cell_type": "code",
   "execution_count": 7,
   "id": "b14cf081",
   "metadata": {},
   "outputs": [
    {
     "name": "stdout",
     "output_type": "stream",
     "text": [
      "       Unnamed: 0      gameId  season         role    lane  \\\n",
      "0               0  4260630568      13  DUO_SUPPORT  BOTTOM   \n",
      "1               1  4260452798      13          DUO     TOP   \n",
      "2               2  4260353406      13         SOLO     MID   \n",
      "3               3  4260272376      13         SOLO     TOP   \n",
      "4               4  4260082928      13         SOLO     MID   \n",
      "...           ...         ...     ...          ...     ...   \n",
      "29995          95  4222879292      13  DUO_SUPPORT  BOTTOM   \n",
      "29996          96  4222613796      13  DUO_SUPPORT  BOTTOM   \n",
      "29997          97  4222481428      13          DUO    NONE   \n",
      "29998          98  4221929785      13    DUO_CARRY  BOTTOM   \n",
      "29999          99  4221027646      13  DUO_SUPPORT    NONE   \n",
      "\n",
      "                                             accountId  \n",
      "0      IIWG7FRiqE8CuZaCslKkNxkglwpgnePPxDslb2tv66FKrgo  \n",
      "1      IIWG7FRiqE8CuZaCslKkNxkglwpgnePPxDslb2tv66FKrgo  \n",
      "2      IIWG7FRiqE8CuZaCslKkNxkglwpgnePPxDslb2tv66FKrgo  \n",
      "3      IIWG7FRiqE8CuZaCslKkNxkglwpgnePPxDslb2tv66FKrgo  \n",
      "4      IIWG7FRiqE8CuZaCslKkNxkglwpgnePPxDslb2tv66FKrgo  \n",
      "...                                                ...  \n",
      "29995     N1zaglgoWTch14yyt0KL7P5iPKB5or3YBI0Ba44Pgwsg  \n",
      "29996     N1zaglgoWTch14yyt0KL7P5iPKB5or3YBI0Ba44Pgwsg  \n",
      "29997     N1zaglgoWTch14yyt0KL7P5iPKB5or3YBI0Ba44Pgwsg  \n",
      "29998     N1zaglgoWTch14yyt0KL7P5iPKB5or3YBI0Ba44Pgwsg  \n",
      "29999     N1zaglgoWTch14yyt0KL7P5iPKB5or3YBI0Ba44Pgwsg  \n",
      "\n",
      "[30000 rows x 6 columns]\n"
     ]
    }
   ],
   "source": [
    "df1 = df.dropna()\n",
    "print(df1)"
   ]
  },
  {
   "cell_type": "code",
   "execution_count": 8,
   "id": "5040bc63",
   "metadata": {},
   "outputs": [
    {
     "name": "stdout",
     "output_type": "stream",
     "text": [
      "       Unnamed: 0      gameId  season         role    lane  \\\n",
      "0               0  4260630568      13  DUO_SUPPORT  BOTTOM   \n",
      "1               1  4260452798      13          DUO     TOP   \n",
      "2               2  4260353406      13         SOLO     MID   \n",
      "3               3  4260272376      13         SOLO     TOP   \n",
      "4               4  4260082928      13         SOLO     MID   \n",
      "...           ...         ...     ...          ...     ...   \n",
      "29995          95  4222879292      13  DUO_SUPPORT  BOTTOM   \n",
      "29996          96  4222613796      13  DUO_SUPPORT  BOTTOM   \n",
      "29997          97  4222481428      13          DUO    NONE   \n",
      "29998          98  4221929785      13    DUO_CARRY  BOTTOM   \n",
      "29999          99  4221027646      13  DUO_SUPPORT    NONE   \n",
      "\n",
      "                                             accountId  \n",
      "0      IIWG7FRiqE8CuZaCslKkNxkglwpgnePPxDslb2tv66FKrgo  \n",
      "1      IIWG7FRiqE8CuZaCslKkNxkglwpgnePPxDslb2tv66FKrgo  \n",
      "2      IIWG7FRiqE8CuZaCslKkNxkglwpgnePPxDslb2tv66FKrgo  \n",
      "3      IIWG7FRiqE8CuZaCslKkNxkglwpgnePPxDslb2tv66FKrgo  \n",
      "4      IIWG7FRiqE8CuZaCslKkNxkglwpgnePPxDslb2tv66FKrgo  \n",
      "...                                                ...  \n",
      "29995     N1zaglgoWTch14yyt0KL7P5iPKB5or3YBI0Ba44Pgwsg  \n",
      "29996     N1zaglgoWTch14yyt0KL7P5iPKB5or3YBI0Ba44Pgwsg  \n",
      "29997     N1zaglgoWTch14yyt0KL7P5iPKB5or3YBI0Ba44Pgwsg  \n",
      "29998     N1zaglgoWTch14yyt0KL7P5iPKB5or3YBI0Ba44Pgwsg  \n",
      "29999     N1zaglgoWTch14yyt0KL7P5iPKB5or3YBI0Ba44Pgwsg  \n",
      "\n",
      "[30000 rows x 6 columns]\n"
     ]
    }
   ],
   "source": [
    "df.dropna(axis=1)\n",
    "print(df)"
   ]
  },
  {
   "cell_type": "code",
   "execution_count": 9,
   "id": "a2c872ee",
   "metadata": {},
   "outputs": [
    {
     "name": "stdout",
     "output_type": "stream",
     "text": [
      "       Unnamed: 0      gameId  season         role    lane  \\\n",
      "0               0  4260630568      13  DUO_SUPPORT  BOTTOM   \n",
      "1               1  4260452798      13          DUO     TOP   \n",
      "2               2  4260353406      13         SOLO     MID   \n",
      "3               3  4260272376      13         SOLO     TOP   \n",
      "4               4  4260082928      13         SOLO     MID   \n",
      "...           ...         ...     ...          ...     ...   \n",
      "29995          95  4222879292      13  DUO_SUPPORT  BOTTOM   \n",
      "29996          96  4222613796      13  DUO_SUPPORT  BOTTOM   \n",
      "29997          97  4222481428      13          DUO    NONE   \n",
      "29998          98  4221929785      13    DUO_CARRY  BOTTOM   \n",
      "29999          99  4221027646      13  DUO_SUPPORT    NONE   \n",
      "\n",
      "                                             accountId  \n",
      "0      IIWG7FRiqE8CuZaCslKkNxkglwpgnePPxDslb2tv66FKrgo  \n",
      "1      IIWG7FRiqE8CuZaCslKkNxkglwpgnePPxDslb2tv66FKrgo  \n",
      "2      IIWG7FRiqE8CuZaCslKkNxkglwpgnePPxDslb2tv66FKrgo  \n",
      "3      IIWG7FRiqE8CuZaCslKkNxkglwpgnePPxDslb2tv66FKrgo  \n",
      "4      IIWG7FRiqE8CuZaCslKkNxkglwpgnePPxDslb2tv66FKrgo  \n",
      "...                                                ...  \n",
      "29995     N1zaglgoWTch14yyt0KL7P5iPKB5or3YBI0Ba44Pgwsg  \n",
      "29996     N1zaglgoWTch14yyt0KL7P5iPKB5or3YBI0Ba44Pgwsg  \n",
      "29997     N1zaglgoWTch14yyt0KL7P5iPKB5or3YBI0Ba44Pgwsg  \n",
      "29998     N1zaglgoWTch14yyt0KL7P5iPKB5or3YBI0Ba44Pgwsg  \n",
      "29999     N1zaglgoWTch14yyt0KL7P5iPKB5or3YBI0Ba44Pgwsg  \n",
      "\n",
      "[30000 rows x 6 columns]\n"
     ]
    }
   ],
   "source": [
    "df.fillna(0,inplace=True)\n",
    "print(df)"
   ]
  },
  {
   "cell_type": "code",
   "execution_count": 10,
   "id": "59dc2fbe",
   "metadata": {},
   "outputs": [
    {
     "data": {
      "text/html": [
       "<div>\n",
       "<style scoped>\n",
       "    .dataframe tbody tr th:only-of-type {\n",
       "        vertical-align: middle;\n",
       "    }\n",
       "\n",
       "    .dataframe tbody tr th {\n",
       "        vertical-align: top;\n",
       "    }\n",
       "\n",
       "    .dataframe thead th {\n",
       "        text-align: right;\n",
       "    }\n",
       "</style>\n",
       "<table border=\"1\" class=\"dataframe\">\n",
       "  <thead>\n",
       "    <tr style=\"text-align: right;\">\n",
       "      <th></th>\n",
       "      <th>Unnamed: 0</th>\n",
       "      <th>gameId</th>\n",
       "      <th>season</th>\n",
       "      <th>role</th>\n",
       "      <th>lane</th>\n",
       "      <th>accountId</th>\n",
       "    </tr>\n",
       "  </thead>\n",
       "  <tbody>\n",
       "    <tr>\n",
       "      <th>0</th>\n",
       "      <td>0</td>\n",
       "      <td>4260630568</td>\n",
       "      <td>13</td>\n",
       "      <td>DUO_SUPPORT</td>\n",
       "      <td>BOTTOM</td>\n",
       "      <td>IIWG7FRiqE8CuZaCslKkNxkglwpgnePPxDslb2tv66FKrgo</td>\n",
       "    </tr>\n",
       "    <tr>\n",
       "      <th>1</th>\n",
       "      <td>1</td>\n",
       "      <td>4260452798</td>\n",
       "      <td>13</td>\n",
       "      <td>DUO</td>\n",
       "      <td>TOP</td>\n",
       "      <td>IIWG7FRiqE8CuZaCslKkNxkglwpgnePPxDslb2tv66FKrgo</td>\n",
       "    </tr>\n",
       "    <tr>\n",
       "      <th>2</th>\n",
       "      <td>2</td>\n",
       "      <td>4260353406</td>\n",
       "      <td>13</td>\n",
       "      <td>SOLO</td>\n",
       "      <td>MID</td>\n",
       "      <td>IIWG7FRiqE8CuZaCslKkNxkglwpgnePPxDslb2tv66FKrgo</td>\n",
       "    </tr>\n",
       "    <tr>\n",
       "      <th>3</th>\n",
       "      <td>3</td>\n",
       "      <td>4260272376</td>\n",
       "      <td>13</td>\n",
       "      <td>SOLO</td>\n",
       "      <td>TOP</td>\n",
       "      <td>IIWG7FRiqE8CuZaCslKkNxkglwpgnePPxDslb2tv66FKrgo</td>\n",
       "    </tr>\n",
       "    <tr>\n",
       "      <th>4</th>\n",
       "      <td>4</td>\n",
       "      <td>4260082928</td>\n",
       "      <td>13</td>\n",
       "      <td>SOLO</td>\n",
       "      <td>MID</td>\n",
       "      <td>IIWG7FRiqE8CuZaCslKkNxkglwpgnePPxDslb2tv66FKrgo</td>\n",
       "    </tr>\n",
       "    <tr>\n",
       "      <th>...</th>\n",
       "      <td>...</td>\n",
       "      <td>...</td>\n",
       "      <td>...</td>\n",
       "      <td>...</td>\n",
       "      <td>...</td>\n",
       "      <td>...</td>\n",
       "    </tr>\n",
       "    <tr>\n",
       "      <th>29995</th>\n",
       "      <td>95</td>\n",
       "      <td>4222879292</td>\n",
       "      <td>13</td>\n",
       "      <td>DUO_SUPPORT</td>\n",
       "      <td>BOTTOM</td>\n",
       "      <td>N1zaglgoWTch14yyt0KL7P5iPKB5or3YBI0Ba44Pgwsg</td>\n",
       "    </tr>\n",
       "    <tr>\n",
       "      <th>29996</th>\n",
       "      <td>96</td>\n",
       "      <td>4222613796</td>\n",
       "      <td>13</td>\n",
       "      <td>DUO_SUPPORT</td>\n",
       "      <td>BOTTOM</td>\n",
       "      <td>N1zaglgoWTch14yyt0KL7P5iPKB5or3YBI0Ba44Pgwsg</td>\n",
       "    </tr>\n",
       "    <tr>\n",
       "      <th>29997</th>\n",
       "      <td>97</td>\n",
       "      <td>4222481428</td>\n",
       "      <td>13</td>\n",
       "      <td>DUO</td>\n",
       "      <td>NONE</td>\n",
       "      <td>N1zaglgoWTch14yyt0KL7P5iPKB5or3YBI0Ba44Pgwsg</td>\n",
       "    </tr>\n",
       "    <tr>\n",
       "      <th>29998</th>\n",
       "      <td>98</td>\n",
       "      <td>4221929785</td>\n",
       "      <td>13</td>\n",
       "      <td>DUO_CARRY</td>\n",
       "      <td>BOTTOM</td>\n",
       "      <td>N1zaglgoWTch14yyt0KL7P5iPKB5or3YBI0Ba44Pgwsg</td>\n",
       "    </tr>\n",
       "    <tr>\n",
       "      <th>29999</th>\n",
       "      <td>99</td>\n",
       "      <td>4221027646</td>\n",
       "      <td>13</td>\n",
       "      <td>DUO_SUPPORT</td>\n",
       "      <td>NONE</td>\n",
       "      <td>N1zaglgoWTch14yyt0KL7P5iPKB5or3YBI0Ba44Pgwsg</td>\n",
       "    </tr>\n",
       "  </tbody>\n",
       "</table>\n",
       "<p>30000 rows × 6 columns</p>\n",
       "</div>"
      ],
      "text/plain": [
       "       Unnamed: 0      gameId  season         role    lane  \\\n",
       "0               0  4260630568      13  DUO_SUPPORT  BOTTOM   \n",
       "1               1  4260452798      13          DUO     TOP   \n",
       "2               2  4260353406      13         SOLO     MID   \n",
       "3               3  4260272376      13         SOLO     TOP   \n",
       "4               4  4260082928      13         SOLO     MID   \n",
       "...           ...         ...     ...          ...     ...   \n",
       "29995          95  4222879292      13  DUO_SUPPORT  BOTTOM   \n",
       "29996          96  4222613796      13  DUO_SUPPORT  BOTTOM   \n",
       "29997          97  4222481428      13          DUO    NONE   \n",
       "29998          98  4221929785      13    DUO_CARRY  BOTTOM   \n",
       "29999          99  4221027646      13  DUO_SUPPORT    NONE   \n",
       "\n",
       "                                             accountId  \n",
       "0      IIWG7FRiqE8CuZaCslKkNxkglwpgnePPxDslb2tv66FKrgo  \n",
       "1      IIWG7FRiqE8CuZaCslKkNxkglwpgnePPxDslb2tv66FKrgo  \n",
       "2      IIWG7FRiqE8CuZaCslKkNxkglwpgnePPxDslb2tv66FKrgo  \n",
       "3      IIWG7FRiqE8CuZaCslKkNxkglwpgnePPxDslb2tv66FKrgo  \n",
       "4      IIWG7FRiqE8CuZaCslKkNxkglwpgnePPxDslb2tv66FKrgo  \n",
       "...                                                ...  \n",
       "29995     N1zaglgoWTch14yyt0KL7P5iPKB5or3YBI0Ba44Pgwsg  \n",
       "29996     N1zaglgoWTch14yyt0KL7P5iPKB5or3YBI0Ba44Pgwsg  \n",
       "29997     N1zaglgoWTch14yyt0KL7P5iPKB5or3YBI0Ba44Pgwsg  \n",
       "29998     N1zaglgoWTch14yyt0KL7P5iPKB5or3YBI0Ba44Pgwsg  \n",
       "29999     N1zaglgoWTch14yyt0KL7P5iPKB5or3YBI0Ba44Pgwsg  \n",
       "\n",
       "[30000 rows x 6 columns]"
      ]
     },
     "execution_count": 10,
     "metadata": {},
     "output_type": "execute_result"
    }
   ],
   "source": [
    "df.drop_duplicates()"
   ]
  },
  {
   "cell_type": "code",
   "execution_count": 14,
   "id": "4c47af42",
   "metadata": {},
   "outputs": [
    {
     "data": {
      "text/html": [
       "<div>\n",
       "<style scoped>\n",
       "    .dataframe tbody tr th:only-of-type {\n",
       "        vertical-align: middle;\n",
       "    }\n",
       "\n",
       "    .dataframe tbody tr th {\n",
       "        vertical-align: top;\n",
       "    }\n",
       "\n",
       "    .dataframe thead th {\n",
       "        text-align: right;\n",
       "    }\n",
       "</style>\n",
       "<table border=\"1\" class=\"dataframe\">\n",
       "  <thead>\n",
       "    <tr style=\"text-align: right;\">\n",
       "      <th></th>\n",
       "      <th>Unnamed</th>\n",
       "      <th>gameId</th>\n",
       "      <th>role</th>\n",
       "    </tr>\n",
       "  </thead>\n",
       "  <tbody>\n",
       "    <tr>\n",
       "      <th>0</th>\n",
       "      <td>0</td>\n",
       "      <td>1</td>\n",
       "      <td>3</td>\n",
       "    </tr>\n",
       "    <tr>\n",
       "      <th>1</th>\n",
       "      <td>4</td>\n",
       "      <td>5</td>\n",
       "      <td>7</td>\n",
       "    </tr>\n",
       "    <tr>\n",
       "      <th>2</th>\n",
       "      <td>8</td>\n",
       "      <td>9</td>\n",
       "      <td>11</td>\n",
       "    </tr>\n",
       "  </tbody>\n",
       "</table>\n",
       "</div>"
      ],
      "text/plain": [
       "   Unnamed  gameId  role\n",
       "0        0       1     3\n",
       "1        4       5     7\n",
       "2        8       9    11"
      ]
     },
     "execution_count": 14,
     "metadata": {},
     "output_type": "execute_result"
    }
   ],
   "source": [
    "import numpy as np\n",
    "df = pd.DataFrame(np.arange(12).reshape(3, 4), columns=['Unnamed', 'gameId', 'season', 'role'])\n",
    "new_df = df.drop(['season'], axis=1)\n",
    "new_df"
   ]
  },
  {
   "cell_type": "code",
   "execution_count": 15,
   "id": "0e6567e1",
   "metadata": {},
   "outputs": [
    {
     "name": "stdout",
     "output_type": "stream",
     "text": [
      "       Unnamed: 0      gameId  season         role    lane  \\\n",
      "0               0  4260630568      13  DUO_SUPPORT  BOTTOM   \n",
      "1               1  4260452798      13          DUO     TOP   \n",
      "2               2  4260353406      13         SOLO     MID   \n",
      "3               3  4260272376      13         SOLO     TOP   \n",
      "4               4  4260082928      13         SOLO     MID   \n",
      "...           ...         ...     ...          ...     ...   \n",
      "29995          95  4222879292      13  DUO_SUPPORT  BOTTOM   \n",
      "29996          96  4222613796      13  DUO_SUPPORT  BOTTOM   \n",
      "29997          97  4222481428      13          DUO    NONE   \n",
      "29998          98  4221929785      13    DUO_CARRY  BOTTOM   \n",
      "29999          99  4221027646      13  DUO_SUPPORT    NONE   \n",
      "\n",
      "                                             accountId  \n",
      "0      IIWG7FRiqE8CuZaCslKkNxkglwpgnePPxDslb2tv66FKrgo  \n",
      "1      IIWG7FRiqE8CuZaCslKkNxkglwpgnePPxDslb2tv66FKrgo  \n",
      "2      IIWG7FRiqE8CuZaCslKkNxkglwpgnePPxDslb2tv66FKrgo  \n",
      "3      IIWG7FRiqE8CuZaCslKkNxkglwpgnePPxDslb2tv66FKrgo  \n",
      "4      IIWG7FRiqE8CuZaCslKkNxkglwpgnePPxDslb2tv66FKrgo  \n",
      "...                                                ...  \n",
      "29995     N1zaglgoWTch14yyt0KL7P5iPKB5or3YBI0Ba44Pgwsg  \n",
      "29996     N1zaglgoWTch14yyt0KL7P5iPKB5or3YBI0Ba44Pgwsg  \n",
      "29997     N1zaglgoWTch14yyt0KL7P5iPKB5or3YBI0Ba44Pgwsg  \n",
      "29998     N1zaglgoWTch14yyt0KL7P5iPKB5or3YBI0Ba44Pgwsg  \n",
      "29999     N1zaglgoWTch14yyt0KL7P5iPKB5or3YBI0Ba44Pgwsg  \n",
      "\n",
      "[30000 rows x 6 columns]\n"
     ]
    }
   ],
   "source": [
    "df = pd.read_csv(\"match.csv\")\n",
    "print(df)"
   ]
  },
  {
   "cell_type": "code",
   "execution_count": 18,
   "id": "38dd35f1",
   "metadata": {},
   "outputs": [
    {
     "name": "stdout",
     "output_type": "stream",
     "text": [
      "30000\n",
      "(30000, 6)\n",
      "['Unnamed: 0', 'gameId', 'season', 'role', 'lane', 'accountId']\n",
      "Unnamed: 0    0\n",
      "gameId        0\n",
      "season        0\n",
      "role          0\n",
      "lane          0\n",
      "accountId     0\n",
      "dtype: int64\n",
      "       Unnamed: 0      gameId  season         role    lane  \\\n",
      "0               0  4260630568      13  DUO_SUPPORT  BOTTOM   \n",
      "1               1  4260452798      13          DUO     TOP   \n",
      "2               2  4260353406      13         SOLO     MID   \n",
      "3               3  4260272376      13         SOLO     TOP   \n",
      "4               4  4260082928      13         SOLO     MID   \n",
      "...           ...         ...     ...          ...     ...   \n",
      "29995          95  4222879292      13  DUO_SUPPORT  BOTTOM   \n",
      "29996          96  4222613796      13  DUO_SUPPORT  BOTTOM   \n",
      "29997          97  4222481428      13          DUO    NONE   \n",
      "29998          98  4221929785      13    DUO_CARRY  BOTTOM   \n",
      "29999          99  4221027646      13  DUO_SUPPORT    NONE   \n",
      "\n",
      "                                             accountId  \n",
      "0      IIWG7FRiqE8CuZaCslKkNxkglwpgnePPxDslb2tv66FKrgo  \n",
      "1      IIWG7FRiqE8CuZaCslKkNxkglwpgnePPxDslb2tv66FKrgo  \n",
      "2      IIWG7FRiqE8CuZaCslKkNxkglwpgnePPxDslb2tv66FKrgo  \n",
      "3      IIWG7FRiqE8CuZaCslKkNxkglwpgnePPxDslb2tv66FKrgo  \n",
      "4      IIWG7FRiqE8CuZaCslKkNxkglwpgnePPxDslb2tv66FKrgo  \n",
      "...                                                ...  \n",
      "29995     N1zaglgoWTch14yyt0KL7P5iPKB5or3YBI0Ba44Pgwsg  \n",
      "29996     N1zaglgoWTch14yyt0KL7P5iPKB5or3YBI0Ba44Pgwsg  \n",
      "29997     N1zaglgoWTch14yyt0KL7P5iPKB5or3YBI0Ba44Pgwsg  \n",
      "29998     N1zaglgoWTch14yyt0KL7P5iPKB5or3YBI0Ba44Pgwsg  \n",
      "29999     N1zaglgoWTch14yyt0KL7P5iPKB5or3YBI0Ba44Pgwsg  \n",
      "\n",
      "[30000 rows x 6 columns]\n"
     ]
    }
   ],
   "source": [
    "print(len(df))\n",
    "print(df.shape)\n",
    "print(df.columns.tolist())\n",
    "print(df.isnull().sum())\n"
   ]
  },
  {
   "cell_type": "code",
   "execution_count": null,
   "id": "461d8c04",
   "metadata": {},
   "outputs": [],
   "source": []
  }
 ],
 "metadata": {
  "kernelspec": {
   "display_name": "Python 3 (ipykernel)",
   "language": "python",
   "name": "python3"
  },
  "language_info": {
   "codemirror_mode": {
    "name": "ipython",
    "version": 3
   },
   "file_extension": ".py",
   "mimetype": "text/x-python",
   "name": "python",
   "nbconvert_exporter": "python",
   "pygments_lexer": "ipython3",
   "version": "3.9.6"
  }
 },
 "nbformat": 4,
 "nbformat_minor": 5
}
