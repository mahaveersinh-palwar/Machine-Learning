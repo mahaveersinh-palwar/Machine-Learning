{
 "cells": [
  {
   "cell_type": "code",
   "execution_count": 21,
   "id": "77224193",
   "metadata": {},
   "outputs": [
    {
     "name": "stdout",
     "output_type": "stream",
     "text": [
      "    student_id first_name  last_name  age  grade\n",
      "0            1       John        Doe   18     12\n",
      "1            2       Jane      Smith   17     11\n",
      "2            3    Michael    Johnson   16     10\n",
      "3            4      Emily   Williams   18     12\n",
      "4            5     Robert      Brown   17     11\n",
      "5            6      Sarah     Miller   16     10\n",
      "6            7    William      Jones   18     12\n",
      "7            8     Olivia      Davis   17     11\n",
      "8            9      James     Garcia   16     10\n",
      "9           10  Elizabeth  Rodriguez   18     12\n",
      "10          11  Alexander   Martinez   17     11\n",
      "11          12     Sophia  Hernandez   16     10\n",
      "12          13   Benjamin      Lopez   18     12\n",
      "13          14   Isabella   Gonzalez   17     11\n",
      "14          15      Mason     Wilson   16     10\n",
      "15          16     Evelyn   Anderson   18     12\n",
      "16          17       Liam     Thomas   17     11\n",
      "17          18        Ava     Taylor   16     10\n",
      "18          19      Ethan      Moore   18     12\n",
      "19          20        Mia    Jackson   17     11\n",
      "20          21      Lucas     Martin   16     10\n",
      "21          22  Charlotte   Thompson   18     12\n",
      "22          23        NaN        NaN   17     11\n",
      "23          24     Amelia     Harris   16     10\n",
      "24          25      Jacob      Clark   18     12\n"
     ]
    }
   ],
   "source": [
    "import pandas as pd\n",
    "\n",
    "df = pd.read_csv(\"student.csv\")\n",
    "print(df)"
   ]
  },
  {
   "cell_type": "code",
   "execution_count": 22,
   "id": "ddf2d99d",
   "metadata": {},
   "outputs": [
    {
     "name": "stdout",
     "output_type": "stream",
     "text": [
      "25\n"
     ]
    }
   ],
   "source": [
    "print(len(df))"
   ]
  },
  {
   "cell_type": "code",
   "execution_count": 23,
   "id": "f3192632",
   "metadata": {},
   "outputs": [
    {
     "name": "stdout",
     "output_type": "stream",
     "text": [
      "(25, 5)\n"
     ]
    }
   ],
   "source": [
    "print(df.shape)"
   ]
  },
  {
   "cell_type": "code",
   "execution_count": 25,
   "id": "ff024c1b",
   "metadata": {},
   "outputs": [
    {
     "name": "stdout",
     "output_type": "stream",
     "text": [
      "['student_id', 'first_name', 'last_name', 'age', 'grade']\n"
     ]
    }
   ],
   "source": [
    "print(df.columns.tolist())"
   ]
  },
  {
   "cell_type": "code",
   "execution_count": 26,
   "id": "3d3427e6",
   "metadata": {},
   "outputs": [
    {
     "name": "stdout",
     "output_type": "stream",
     "text": [
      "student_id    0\n",
      "first_name    1\n",
      "last_name     1\n",
      "age           0\n",
      "grade         0\n",
      "dtype: int64\n"
     ]
    }
   ],
   "source": [
    "print(df.isnull().sum())"
   ]
  },
  {
   "cell_type": "code",
   "execution_count": 27,
   "id": "3b87663b",
   "metadata": {},
   "outputs": [
    {
     "name": "stdout",
     "output_type": "stream",
     "text": [
      "2\n"
     ]
    }
   ],
   "source": [
    "# print(df.isnull())\n",
    "print(df.ndim)"
   ]
  },
  {
   "cell_type": "code",
   "execution_count": 28,
   "id": "66747992",
   "metadata": {},
   "outputs": [
    {
     "name": "stdout",
     "output_type": "stream",
     "text": [
      "    student_id first_name  last_name  age  grade\n",
      "0            1       John        Doe   18     12\n",
      "1            2       Jane      Smith   17     11\n",
      "2            3    Michael    Johnson   16     10\n",
      "3            4      Emily   Williams   18     12\n",
      "4            5     Robert      Brown   17     11\n",
      "5            6      Sarah     Miller   16     10\n",
      "6            7    William      Jones   18     12\n",
      "7            8     Olivia      Davis   17     11\n",
      "8            9      James     Garcia   16     10\n",
      "9           10  Elizabeth  Rodriguez   18     12\n",
      "10          11  Alexander   Martinez   17     11\n",
      "11          12     Sophia  Hernandez   16     10\n",
      "12          13   Benjamin      Lopez   18     12\n",
      "13          14   Isabella   Gonzalez   17     11\n",
      "14          15      Mason     Wilson   16     10\n",
      "15          16     Evelyn   Anderson   18     12\n",
      "16          17       Liam     Thomas   17     11\n",
      "17          18        Ava     Taylor   16     10\n",
      "18          19      Ethan      Moore   18     12\n",
      "19          20        Mia    Jackson   17     11\n",
      "20          21      Lucas     Martin   16     10\n",
      "21          22  Charlotte   Thompson   18     12\n",
      "23          24     Amelia     Harris   16     10\n",
      "24          25      Jacob      Clark   18     12\n"
     ]
    }
   ],
   "source": [
    "# print(df)\n",
    "# Remove Rows with Any Missing Values (Default Behavior) dropna()\n",
    "df1 = df.dropna()\n",
    "print(df1)"
   ]
  },
  {
   "cell_type": "code",
   "execution_count": 29,
   "id": "6e944e25",
   "metadata": {},
   "outputs": [
    {
     "name": "stdout",
     "output_type": "stream",
     "text": [
      "    student_id first_name  last_name  age  grade\n",
      "0            1       John        Doe   18     12\n",
      "1            2       Jane      Smith   17     11\n",
      "2            3    Michael    Johnson   16     10\n",
      "3            4      Emily   Williams   18     12\n",
      "4            5     Robert      Brown   17     11\n",
      "5            6      Sarah     Miller   16     10\n",
      "6            7    William      Jones   18     12\n",
      "7            8     Olivia      Davis   17     11\n",
      "8            9      James     Garcia   16     10\n",
      "9           10  Elizabeth  Rodriguez   18     12\n",
      "10          11  Alexander   Martinez   17     11\n",
      "11          12     Sophia  Hernandez   16     10\n",
      "12          13   Benjamin      Lopez   18     12\n",
      "13          14   Isabella   Gonzalez   17     11\n",
      "14          15      Mason     Wilson   16     10\n",
      "15          16     Evelyn   Anderson   18     12\n",
      "16          17       Liam     Thomas   17     11\n",
      "17          18        Ava     Taylor   16     10\n",
      "18          19      Ethan      Moore   18     12\n",
      "19          20        Mia    Jackson   17     11\n",
      "20          21      Lucas     Martin   16     10\n",
      "21          22  Charlotte   Thompson   18     12\n",
      "22          23        NaN        NaN   17     11\n",
      "23          24     Amelia     Harris   16     10\n",
      "24          25      Jacob      Clark   18     12\n"
     ]
    }
   ],
   "source": [
    "# df.dropna(axis=1, how='all',inplace=True)\n",
    "df.dropna(axis=1)\n",
    "print(df)"
   ]
  },
  {
   "cell_type": "markdown",
   "id": "8584d93b",
   "metadata": {},
   "source": [
    "# Fill Null Values with another value"
   ]
  },
  {
   "cell_type": "code",
   "execution_count": 9,
   "id": "4381fece",
   "metadata": {},
   "outputs": [
    {
     "ename": "NameError",
     "evalue": "name 'df' is not defined",
     "output_type": "error",
     "traceback": [
      "\u001b[1;31m---------------------------------------------------------------------------\u001b[0m",
      "\u001b[1;31mNameError\u001b[0m                                 Traceback (most recent call last)",
      "\u001b[1;32m~\\AppData\\Local\\Temp/ipykernel_5028/1459209548.py\u001b[0m in \u001b[0;36m<module>\u001b[1;34m\u001b[0m\n\u001b[1;32m----> 1\u001b[1;33m \u001b[0mdf\u001b[0m\u001b[1;33m.\u001b[0m\u001b[0mfillna\u001b[0m\u001b[1;33m(\u001b[0m\u001b[1;36m0\u001b[0m\u001b[1;33m,\u001b[0m\u001b[0minplace\u001b[0m\u001b[1;33m=\u001b[0m\u001b[1;32mTrue\u001b[0m\u001b[1;33m)\u001b[0m\u001b[1;33m\u001b[0m\u001b[1;33m\u001b[0m\u001b[0m\n\u001b[0m\u001b[0;32m      2\u001b[0m \u001b[0mprint\u001b[0m\u001b[1;33m(\u001b[0m\u001b[0mdf\u001b[0m\u001b[1;33m)\u001b[0m\u001b[1;33m\u001b[0m\u001b[1;33m\u001b[0m\u001b[0m\n",
      "\u001b[1;31mNameError\u001b[0m: name 'df' is not defined"
     ]
    }
   ],
   "source": [
    "df.fillna(0,inplace=True)\n",
    "print(df)"
   ]
  },
  {
   "cell_type": "code",
   "execution_count": null,
   "id": "f4c7c675",
   "metadata": {},
   "outputs": [],
   "source": []
  },
  {
   "cell_type": "markdown",
   "id": "c5a60a9b",
   "metadata": {},
   "source": [
    "# Drop Duplicate rows from dataframe"
   ]
  },
  {
   "cell_type": "code",
   "execution_count": 12,
   "id": "a6fc22ec",
   "metadata": {
    "scrolled": true
   },
   "outputs": [
    {
     "ename": "NameError",
     "evalue": "name 'df' is not defined",
     "output_type": "error",
     "traceback": [
      "\u001b[1;31m---------------------------------------------------------------------------\u001b[0m",
      "\u001b[1;31mNameError\u001b[0m                                 Traceback (most recent call last)",
      "\u001b[1;32m~\\AppData\\Local\\Temp/ipykernel_5028/2110108896.py\u001b[0m in \u001b[0;36m<module>\u001b[1;34m\u001b[0m\n\u001b[1;32m----> 1\u001b[1;33m \u001b[0mdf\u001b[0m\u001b[1;33m.\u001b[0m\u001b[0mdrop_duplicates\u001b[0m\u001b[1;33m(\u001b[0m\u001b[1;33m)\u001b[0m\u001b[1;33m\u001b[0m\u001b[1;33m\u001b[0m\u001b[0m\n\u001b[0m",
      "\u001b[1;31mNameError\u001b[0m: name 'df' is not defined"
     ]
    }
   ],
   "source": [
    "df.drop_duplicates()"
   ]
  },
  {
   "cell_type": "code",
   "execution_count": null,
   "id": "202d6b05",
   "metadata": {},
   "outputs": [],
   "source": []
  },
  {
   "cell_type": "code",
   "execution_count": null,
   "id": "aeb7e1f4",
   "metadata": {},
   "outputs": [],
   "source": []
  },
  {
   "cell_type": "code",
   "execution_count": null,
   "id": "5ad5b3b7",
   "metadata": {},
   "outputs": [],
   "source": []
  }
 ],
 "metadata": {
  "kernelspec": {
   "display_name": "Python 3 (ipykernel)",
   "language": "python",
   "name": "python3"
  },
  "language_info": {
   "codemirror_mode": {
    "name": "ipython",
    "version": 3
   },
   "file_extension": ".py",
   "mimetype": "text/x-python",
   "name": "python",
   "nbconvert_exporter": "python",
   "pygments_lexer": "ipython3",
   "version": "3.9.6"
  }
 },
 "nbformat": 4,
 "nbformat_minor": 5
}
